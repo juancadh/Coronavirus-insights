{
 "nbformat": 4,
 "nbformat_minor": 2,
 "metadata": {
  "language_info": {
   "name": "python",
   "codemirror_mode": {
    "name": "ipython",
    "version": 3
   },
   "version": "3.7.5-final"
  },
  "orig_nbformat": 2,
  "file_extension": ".py",
  "mimetype": "text/x-python",
  "name": "python",
  "npconvert_exporter": "python",
  "pygments_lexer": "ipython3",
  "version": 3,
  "kernelspec": {
   "name": "69d9c812-49b7-41ea-a4f5-1943abc7405f",
   "display_name": "'Python Interactive'"
  }
 },
 "cells": [
  {
   "cell_type": "code",
   "execution_count": null,
   "metadata": {},
   "outputs": [],
   "source": [
    "import pandas as pd\n",
    "import numpy as np\n",
    "import matplotlib.pyplot as plt\n",
    "import coronavirus_report as corona"
   ]
  },
  {
   "cell_type": "code",
   "execution_count": null,
   "metadata": {},
   "outputs": [],
   "source": [
    "SAVE_DATA_PATH         = './data'\n",
    "SAVE_WORLD_PLOT_PATH   = './plots/world'\n",
    "SAVE_COUNTRY_PLOT_PATH = './plots/countries'\n",
    "\n",
    "#COUNTRIES = ['Spain', 'Portugal']\n",
    "#COUNTRIES = [\"Italy\", \"US\", \"Spain\", \"France\"]\n",
    "COUNTRIES = [\"Colombia\", \"Argentina\", \"Mexico\", \"Peru\", \"Chile\", \"Brazil\", \"Ecuador\", \"Uruguay\", \"Paraguay\", \"Venezuela\", \"Bolivia\"] \n",
    "group_name = 'LATAM'"
   ]
  },
  {
   "cell_type": "code",
   "execution_count": null,
   "metadata": {},
   "outputs": [],
   "source": [
    "corona.create_folder(folder_path = SAVE_DATA_PATH)\n",
    "corona.create_folder(folder_path = SAVE_WORLD_PLOT_PATH)\n",
    "corona.create_folder(folder_path = SAVE_COUNTRY_PLOT_PATH + \"/\" + group_name)"
   ]
  },
  {
   "cell_type": "markdown",
   "metadata": {},
   "source": [
    "# Download Data from Github Repositoty"
   ],
   "execution_count": null,
   "outputs": []
  },
  {
   "cell_type": "code",
   "execution_count": null,
   "metadata": {},
   "outputs": [],
   "source": [
    "df_confirmed, df_deaths, df_mortality = corona.get_data(savePath = SAVE_DATA_PATH)\n",
    "df_confirmed.tail()"
   ]
  },
  {
   "cell_type": "markdown",
   "metadata": {},
   "source": [
    "# DYNAMIC EVOLUTION"
   ],
   "execution_count": null,
   "outputs": []
  },
  {
   "cell_type": "code",
   "execution_count": null,
   "metadata": {},
   "outputs": [],
   "source": [
    "variable = 'Mortality'\n",
    "\n",
    "if variable == \"Cases\" or variable == \"C\":\n",
    "    data = df_confirmed\n",
    "    var_name = 'Cases Confirmed'\n",
    "elif variable == \"Deaths\" or variable == \"D\":\n",
    "    data = df_deaths\n",
    "    var_name = 'Deaths Confirmed'\n",
    "elif variable == \"Mortality\" or variable == \"M\":\n",
    "    data = df_mortality\n",
    "    var_name = f'Mortality Rate (More than 100 cases)'\n",
    "\n",
    "corona.dynamic_evolution(data, var_name = var_name, number_of_countries = 25) "
   ]
  },
  {
   "cell_type": "markdown",
   "metadata": {},
   "source": [
    "# WORD"
   ],
   "execution_count": null,
   "outputs": []
  },
  {
   "cell_type": "code",
   "execution_count": null,
   "metadata": {},
   "outputs": [],
   "source": [
    "# Create confirmed cases and deaths world series Including out China\n",
    "df_confirmed_word = df_confirmed.sum(axis=1)\n",
    "df_confirmed_word.columns = [\"World\"]\n",
    "df_deaths_word = df_deaths.sum(axis=1)\n",
    "df_deaths_word.columns = [\"World\"]\n",
    "\n",
    "# Create confirmed cases world series with out China\n",
    "df_confirmed_word_noChina = df_confirmed.loc[:,df_confirmed.columns != 'China'].sum(axis=1)\n",
    "df_confirmed_word_noChina.columns = [\"Word - No China\"]"
   ]
  },
  {
   "cell_type": "code",
   "execution_count": null,
   "metadata": {},
   "outputs": [],
   "source": [
    "corona.log_scale_plot(df_confirmed_word_noChina, \"Cases Word No China\", save_path = f\"{SAVE_WORLD_PLOT_PATH}/log_world_cases.png\")"
   ]
  },
  {
   "cell_type": "markdown",
   "metadata": {},
   "source": [
    "### Exponential Factor $R^2$"
   ],
   "execution_count": null,
   "outputs": []
  },
  {
   "cell_type": "code",
   "execution_count": null,
   "metadata": {},
   "outputs": [],
   "source": [
    "corona.exponential_r2(df_confirmed, threshold = 200)"
   ]
  },
  {
   "cell_type": "code",
   "execution_count": null,
   "metadata": {},
   "outputs": [],
   "source": [
    "corona.make_ts_plot(df_confirmed_word, \"World - Cases\", save_path = f\"{SAVE_WORLD_PLOT_PATH}/world_cases.png\")\n",
    "df_confirmed_word.tail()"
   ]
  },
  {
   "cell_type": "code",
   "execution_count": null,
   "metadata": {},
   "outputs": [],
   "source": [
    "corona.make_ts_plot(df_deaths_word, \"World - Deaths\", save_path = f\"{SAVE_WORLD_PLOT_PATH}/world_deaths.png\")\n",
    "df_deaths_word.tail()"
   ]
  },
  {
   "cell_type": "code",
   "execution_count": null,
   "metadata": {},
   "outputs": [],
   "source": [
    "mortality = (df_deaths_word/df_confirmed_word) * 100\n",
    "mortality.columns = ['Mortality']\n",
    "corona.make_ts_plot(mortality, \"World - Mortality\", save_path = f\"{SAVE_WORLD_PLOT_PATH}/world_mortality.png\")"
   ]
  },
  {
   "cell_type": "markdown",
   "metadata": {},
   "source": [
    "## Evolution of the factor cummulative"
   ],
   "execution_count": null,
   "outputs": []
  },
  {
   "cell_type": "code",
   "execution_count": null,
   "metadata": {},
   "outputs": [],
   "source": [
    "corona.factor_evolution(df_confirmed_word , num_last_days = 60, start_d = 5, save_path = f\"{SAVE_WORLD_PLOT_PATH}/world_factor_cum_evol.png\")"
   ]
  },
  {
   "cell_type": "markdown",
   "metadata": {},
   "source": [
    "## Evolution of the factor"
   ],
   "execution_count": null,
   "outputs": []
  },
  {
   "cell_type": "code",
   "execution_count": null,
   "metadata": {},
   "outputs": [],
   "source": [
    "factor_smt_word = corona.moving_median(df_confirmed_word, window=7, last_n_days = 45, save_path = f\"{SAVE_WORLD_PLOT_PATH}/world_factor_evol.png\")"
   ]
  },
  {
   "cell_type": "markdown",
   "metadata": {},
   "source": [
    "## Factor Change"
   ],
   "execution_count": null,
   "outputs": []
  },
  {
   "cell_type": "code",
   "execution_count": null,
   "metadata": {},
   "outputs": [],
   "source": [
    "dataFactor = corona.factor_plot(df_confirmed, window = 7, var_name = 'Today', past_days_contrast = 7, save_path = f\"{SAVE_WORLD_PLOT_PATH}/world_factor_today.png\") # var_name = 'Change' or 'Today'\n",
    "dataFactor.head()"
   ]
  },
  {
   "cell_type": "code",
   "execution_count": null,
   "metadata": {},
   "outputs": [],
   "source": [
    "dataFactor = corona.factor_plot(df_confirmed, window = 7, var_name = 'Change', past_days_contrast = 7, save_path = f\"{SAVE_WORLD_PLOT_PATH}/world_factor_change.png\") # var_name = 'Change' or 'Today'"
   ]
  },
  {
   "cell_type": "markdown",
   "metadata": {},
   "source": [
    "# BY COUNTRY"
   ],
   "execution_count": null,
   "outputs": []
  },
  {
   "cell_type": "code",
   "execution_count": null,
   "metadata": {},
   "outputs": [],
   "source": [
    "data1 = df_confirmed.loc[:, COUNTRIES]\n",
    "data2 = df_deaths.loc[:, COUNTRIES]"
   ]
  },
  {
   "cell_type": "markdown",
   "metadata": {},
   "source": [
    "# Total Cases"
   ],
   "execution_count": null,
   "outputs": []
  },
  {
   "cell_type": "code",
   "execution_count": null,
   "metadata": {},
   "outputs": [],
   "source": [
    "corona.make_ts_plot(data1.iloc[len(data1)-30:,:], \"Total Cases\", save_path = f\"{SAVE_COUNTRY_PLOT_PATH}/{group_name}/{group_name}_cases.png\") #data1.iloc[:len(data1)-1,:]\n",
    "data1.tail()"
   ]
  },
  {
   "cell_type": "markdown",
   "metadata": {},
   "source": [
    "# Factors"
   ],
   "execution_count": null,
   "outputs": []
  },
  {
   "cell_type": "code",
   "execution_count": null,
   "metadata": {},
   "outputs": [],
   "source": [
    "for i in data1.columns:\n",
    "    smt_f = corona.moving_median(data1.iloc[:len(data1)-1,:][i], window=7, last_n_days = 40, spec_name = i, show_quantiles = True, ylim_top = 1.45, plotIt = True, save_path = f\"{SAVE_COUNTRY_PLOT_PATH}/{group_name}/{group_name}_factor_evol_{i}.png\")"
   ]
  },
  {
   "cell_type": "code",
   "execution_count": null,
   "metadata": {},
   "outputs": [],
   "source": [
    "dataFactor = corona.factor_plot(data1, window = 7, var_name = 'Today', past_days_contrast = 7, save_path = f\"{SAVE_COUNTRY_PLOT_PATH}/{group_name}/{group_name}_factor_today.png\") # var_name = 'Change' or 'Today'\n",
    "dataFactor"
   ]
  },
  {
   "cell_type": "markdown",
   "metadata": {},
   "source": [
    "# Daily Plot"
   ],
   "execution_count": null,
   "outputs": []
  },
  {
   "cell_type": "code",
   "execution_count": null,
   "metadata": {},
   "outputs": [],
   "source": [
    "df, plot_daily = corona.daily_plot(data1.iloc[:len(data1)-1,:], num_days = 60, threshold_cases = 50, save_path = f\"{SAVE_COUNTRY_PLOT_PATH}/{group_name}/{group_name}_dalily_cases.png\")\n",
    "# df"
   ]
  },
  {
   "cell_type": "markdown",
   "metadata": {},
   "source": [
    "### Factor -> I(n+1)/I(n)"
   ],
   "execution_count": null,
   "outputs": []
  },
  {
   "cell_type": "code",
   "execution_count": null,
   "metadata": {},
   "outputs": [],
   "source": [
    "# Factor by country of the last n days sorted by median.\n",
    "d_factor, plt = corona.create_factor_stats(data1, last_n_days=7, plotIt=True, plt_qrt = [\"50\"], save_path = f\"{SAVE_COUNTRY_PLOT_PATH}/{group_name}/{group_name}_factor_stats.png\") #\"75\",\"50\",\"25\",\"min\"\n",
    "d_factor"
   ]
  },
  {
   "cell_type": "markdown",
   "metadata": {},
   "source": [
    "# Forecast"
   ],
   "execution_count": null,
   "outputs": []
  },
  {
   "cell_type": "code",
   "execution_count": null,
   "metadata": {},
   "outputs": [],
   "source": [
    "forecast_n    = 5  # Number of days to forecast\n",
    "history       = 7 # History to calculate the factor\n",
    "history_plot  = 30  # Number of days to plot before\n",
    "\n",
    "forecast_low, forecast_med, forecast_hig = corona.forecast_corona(data1, # data1.iloc[:len(data1)-1,:]\n",
    "                                                forecast_n = forecast_n, \n",
    "                                                history_plot = history_plot, \n",
    "                                                history = history,\n",
    "                                                highlight_country = \"\",#data1.columns, #data1.columns,\n",
    "                                                plot_intervals = False, \n",
    "                                                save_path = f\"{SAVE_COUNTRY_PLOT_PATH}/{group_name}/{group_name}_forecast_cases.png\")\n",
    "forecast_med"
   ]
  },
  {
   "cell_type": "code",
   "execution_count": null,
   "metadata": {},
   "outputs": [],
   "source": [
    "forecast_low"
   ]
  },
  {
   "cell_type": "markdown",
   "metadata": {},
   "source": [
    "# DEATHS"
   ],
   "execution_count": null,
   "outputs": []
  },
  {
   "cell_type": "code",
   "execution_count": null,
   "metadata": {},
   "outputs": [],
   "source": [
    "corona.make_ts_plot(data2.iloc[len(data1)-20:len(data1)-1,:], \"Total Deaths\", save_path = f\"{SAVE_COUNTRY_PLOT_PATH}/{group_name}/{group_name}_deaths.png\")\n",
    "data2.tail()"
   ]
  },
  {
   "cell_type": "code",
   "execution_count": null,
   "metadata": {},
   "outputs": [],
   "source": [
    "df, plot_daily = corona.daily_plot(data2.iloc[:len(data1)-1,:], num_days = 30, save_path = f\"{SAVE_COUNTRY_PLOT_PATH}/{group_name}/{group_name}_daily_deaths.png\")"
   ]
  },
  {
   "cell_type": "code",
   "execution_count": null,
   "metadata": {},
   "outputs": [],
   "source": [
    "d_factor = corona.create_factor_stats(data2.iloc[:len(data1)-1,:], last_n_days=10, plotIt=True , plt_qrt = [\"50\"], save_path = f\"{SAVE_COUNTRY_PLOT_PATH}/{group_name}/{group_name}_factor_stats_deaths.png\")\n",
    "d_factor"
   ]
  },
  {
   "cell_type": "code",
   "execution_count": null,
   "metadata": {},
   "outputs": [],
   "source": [
    "forecast_n    = 5  # Number of days to forecast\n",
    "history       = 10 # History to calculate the factor\n",
    "history_plot  = 15  # Number of days to plot before\n",
    "\n",
    "forecast_low, forecast_med, forecast_hig = corona.forecast_corona(data2.iloc[:len(data1)-1,:], # data2.iloc[:len(data1)-1,:]\n",
    "                                                forecast_n = forecast_n, \n",
    "                                                history_plot = history_plot, \n",
    "                                                history = history,\n",
    "                                                highlight_country = data1.columns, #data1.columns\n",
    "                                                plot_intervals = False,\n",
    "                                                decrease_factor_speed = 1, \n",
    "                                                save_path = f\"{SAVE_COUNTRY_PLOT_PATH}/{group_name}/{group_name}_forecast_deaths.png\") # 0.99\n",
    "forecast_med"
   ]
  }
 ]
}